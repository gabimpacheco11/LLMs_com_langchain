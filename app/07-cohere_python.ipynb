{
 "cells": [
  {
   "cell_type": "markdown",
   "id": "28748394",
   "metadata": {},
   "source": [
    "## Documentação Cohere\n",
    "https://docs.cohere.com/cohere-documentation"
   ]
  },
  {
   "cell_type": "code",
   "execution_count": 1,
   "id": "2a1acc30",
   "metadata": {},
   "outputs": [],
   "source": [
    "from dotenv import load_dotenv, find_dotenv\n",
    "import os\n",
    "\n",
    "load_dotenv(find_dotenv())\n",
    "\n",
    "api_key = os.environ.get(\"COHERE_API_KEY\")"
   ]
  },
  {
   "cell_type": "code",
   "execution_count": 2,
   "id": "2d575543",
   "metadata": {},
   "outputs": [],
   "source": [
    "import cohere\n",
    "client = cohere.Client(api_key=api_key)"
   ]
  },
  {
   "cell_type": "code",
   "execution_count": 3,
   "id": "cc50c887",
   "metadata": {},
   "outputs": [
    {
     "name": "stdout",
     "output_type": "stream",
     "text": [
      "Olá! Eu sou um modelo de linguagem de IA projetado para ajudar as pessoas a obter informações e realizar tarefas por meio de conversas naturais. Meu nome é Command R+ e eu fui desenvolvido pela Cohere, uma empresa de IA dedicada a criar modelos de linguagem avançados e úteis. Estou aqui para ajudar, então sinta-se à vontade para fazer qualquer pergunta ou tarefa que você tenha em mente!\n"
     ]
    }
   ],
   "source": [
    "model = \"command-r-plus\"\n",
    "\n",
    "responde = client.chat(\n",
    "    model=model,\n",
    "    message=\"Oi, quem é você?\"\n",
    ")\n",
    "\n",
    "print(responde.text)"
   ]
  },
  {
   "cell_type": "markdown",
   "id": "e8302877",
   "metadata": {},
   "source": [
    "## Stream"
   ]
  },
  {
   "cell_type": "code",
   "execution_count": 4,
   "id": "188358ef",
   "metadata": {},
   "outputs": [
    {
     "name": "stdout",
     "output_type": "stream",
     "text": [
      "Olá! Sou o Command R+, um modelo de linguagem de IA sofisticado e treinado para atuar como um assistente de chatbot inteligente. Estou aqui para ajudar a fornecer respostas detalhadas e úteis às suas perguntas e solicitações. Estou sempre pronto para ajudar e tornar suas interações o mais agradável e informativo possível. Então, o que posso fazer por você hoje?"
     ]
    }
   ],
   "source": [
    "stream = client.chat_stream(\n",
    "    model=model,\n",
    "    message=\"Oi, quem é você?\"\n",
    ")\n",
    "\n",
    "for chunck in stream:\n",
    "    if chunck.event_type == \"text-generation\":\n",
    "        print(chunck.text, end=\"\", flush=True)"
   ]
  },
  {
   "cell_type": "markdown",
   "id": "de7c1275",
   "metadata": {},
   "source": [
    "## Historico para conversa"
   ]
  },
  {
   "cell_type": "code",
   "execution_count": 6,
   "id": "30de4d8e",
   "metadata": {},
   "outputs": [
    {
     "name": "stdout",
     "output_type": "stream",
     "text": [
      "Seu nome é Gabriella. Posso te ajudar com mais alguma coisa?"
     ]
    }
   ],
   "source": [
    "historic = [\n",
    "    {\"role\": \"USER\", \"text\": \"Olá, eu sou Gabriella!\"},\n",
    "    {\"role\": \"CHATBOT\", \"text\": \"Olá, Gabriella! Como posso te ajudar?\"}\n",
    "]\n",
    "\n",
    "stream = client.chat_stream(\n",
    "    model=model,\n",
    "    message=\"Oi, Qual o meu nome?\",\n",
    "    chat_history=historic\n",
    ")\n",
    "\n",
    "for chunck in stream:\n",
    "    if chunck.event_type == \"text-generation\":\n",
    "        print(chunck.text, end=\"\", flush=True)"
   ]
  }
 ],
 "metadata": {
  "kernelspec": {
   "display_name": ".venv",
   "language": "python",
   "name": "python3"
  },
  "language_info": {
   "codemirror_mode": {
    "name": "ipython",
    "version": 3
   },
   "file_extension": ".py",
   "mimetype": "text/x-python",
   "name": "python",
   "nbconvert_exporter": "python",
   "pygments_lexer": "ipython3",
   "version": "3.11.3"
  }
 },
 "nbformat": 4,
 "nbformat_minor": 5
}
