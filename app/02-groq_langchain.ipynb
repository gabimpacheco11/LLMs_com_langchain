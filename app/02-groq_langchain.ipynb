{
 "cells": [
  {
   "cell_type": "code",
   "execution_count": 1,
   "id": "9f1b7997",
   "metadata": {},
   "outputs": [
    {
     "data": {
      "text/plain": [
       "True"
      ]
     },
     "execution_count": 1,
     "metadata": {},
     "output_type": "execute_result"
    }
   ],
   "source": [
    "from dotenv import load_dotenv, find_dotenv\n",
    "\n",
    "load_dotenv(find_dotenv())"
   ]
  },
  {
   "cell_type": "code",
   "execution_count": 2,
   "id": "b71e6e63",
   "metadata": {},
   "outputs": [
    {
     "name": "stdout",
     "output_type": "stream",
     "text": [
      "Olá! Estou pronto para responder em português. Qual é a sua pergunta?\n"
     ]
    }
   ],
   "source": [
    "from langchain_groq import ChatGroq\n",
    "\n",
    "chat = ChatGroq(\n",
    "    model=\"llama3-8b-8192\",\n",
    "    temperature=0\n",
    ")\n",
    "\n",
    "response = chat.invoke(\"Oi! Responda em Português\")\n",
    "print(response.content)"
   ]
  },
  {
   "cell_type": "code",
   "execution_count": 3,
   "id": "2f628a97",
   "metadata": {},
   "outputs": [],
   "source": [
    "# função com objetivo de quebrar texto grande gerado pelo llm\n",
    "\n",
    "import textwrap\n",
    "\n",
    "def format_text(response):\n",
    "    text = response\n",
    "    text_formatted = textwrap.fill(text, width=100)\n",
    "    print(text_formatted)"
   ]
  },
  {
   "cell_type": "code",
   "execution_count": 4,
   "id": "e09e5d9f",
   "metadata": {},
   "outputs": [
    {
     "name": "stdout",
     "output_type": "stream",
     "text": [
      "O mercado de 2025! É como um grande oceano, cheio de ondas e correntes que nos levam em direções\n",
      "surpreendentes. Como um assistente que sempre fala no sentido figurado, vou tentar capturar a\n",
      "essência da tendência de LLM (Large Language Model) para o mercado de 2025.  Imagine um grande\n",
      "navio, com LLMs como os pilotos, navegando pelas águas do conhecimento. Eles estão constantemente\n",
      "aprendendo, adaptando e evoluindo para lidar com as mudanças do mercado. Aqui estão algumas\n",
      "tendências que podem influenciar o mercado de LLMs em 2025:  1. **Integração com inteligência\n",
      "artificial**: LLMs serão mais integrados com IA, tornando-se mais poderosos e capazes de lidar com\n",
      "grandes volumes de dados. É como um grande navio com um radar avançado, detectando e respondendo a\n",
      "mudanças no mercado. 2. **Personalização e customização**: LLMs serão mais personalizados e\n",
      "customizados para atender às necessidades específicas de empresas e indivíduos. É como um barco com\n",
      "um motor personalizado, adaptado às condições do mar. 3. **Aumento da confiabilidade**: LLMs serão\n",
      "mais confiáveis e precisos, graças à melhoria contínua da qualidade dos dados e da aprendizagem\n",
      "automática. É como um navio com um sistema de navegação preciso, levando você ao destino certo. 4.\n",
      "**Desenvolvimento de linguagens naturais**: LLMs serão capazes de lidar com linguagens naturais mais\n",
      "complexas, como o português, o espanhol e o chinês. É como um navio que pode navegar por diferentes\n",
      "mares e canais. 5. **Aumento da segurança**: LLMs serão mais seguros, com medidas de segurança mais\n",
      "robustas para proteger os dados e evitar ataques cibernéticos. É como um navio com um sistema de\n",
      "segurança avançado, protegendo o passageiro e o conteúdo. 6. **Colaboração com humanos**: LLMs serão\n",
      "mais capazes de colaborar com humanos, tornando-se ferramentas mais poderosas e eficazes. É como um\n",
      "navio com um time de pilotos experientes, trabalhando juntos para alcançar o destino.  Em resumo, o\n",
      "mercado de LLMs em 2025 será caracterizado por uma maior integração com IA, personalização e\n",
      "customização, aumento da confiabilidade, desenvolvimento de linguagens naturais, aumento da\n",
      "segurança e colaboração com humanos. É como um grande navio, navegando pelas águas do conhecimento,\n",
      "com LLMs como os pilotos, levando-nos a novas fronteiras de inovação e crescimento.\n"
     ]
    }
   ],
   "source": [
    "from langchain_core.prompts import ChatPromptTemplate\n",
    "\n",
    "template = ChatPromptTemplate.from_messages([\n",
    "    (\"system\", \"Você é um assistente que sempre fala no sentido figurado\"),\n",
    "    (\"human\", \"{input}\")\n",
    "])\n",
    "\n",
    "chain = template | chat\n",
    "response = chain.invoke({\"input\": \"Qual a tendencia de llm para o mercado 2025\"})\n",
    "format_text(response.content)"
   ]
  },
  {
   "cell_type": "markdown",
   "id": "a7b42765",
   "metadata": {},
   "source": [
    "## Stream"
   ]
  },
  {
   "cell_type": "code",
   "execution_count": 5,
   "id": "16c4d6cf",
   "metadata": {},
   "outputs": [
    {
     "name": "stdout",
     "output_type": "stream",
     "text": [
      "What a \"stormy\" request! Let me \"weather\" the storm and provide you with some \"stellar\" projects on chatbots!\n",
      "\n",
      "1. **Virtual Assistant**: Create a chatbot that can assist users with daily tasks, such as setting reminders, sending emails, and making phone calls. It's like having a \"personal butler\" at your fingertips!\n",
      "2. **Customer Service Chatbot**: Develop a chatbot that can help customers with their queries, complaints, and feedback. It's like having a \"customer whisperer\" that can resolve issues in a snap!\n",
      "3. **Language Translation Chatbot**: Build a chatbot that can translate languages in real-time, breaking down language barriers and facilitating global communication. It's like having a \"linguistic wizard\" at your disposal!\n",
      "4. **Health and Wellness Chatbot**: Create a chatbot that can provide users with health advice, track their fitness goals, and offer personalized wellness recommendations. It's like having a \"personal trainer\" in your pocket!\n",
      "5. **E-commerce Chatbot**: Develop a chatbot that can assist customers with product recommendations, order tracking, and returns. It's like having a \"shopping buddy\" that can make online shopping a breeze!\n",
      "6. **Education Chatbot**: Build a chatbot that can provide students with educational resources, answer questions, and offer personalized learning recommendations. It's like having a \"personal tutor\" at your fingertips!\n",
      "7. **Travel Chatbot**: Create a chatbot that can help users plan their trips, book flights and hotels, and provide travel recommendations. It's like having a \"travel agent\" in your pocket!\n",
      "8. **Financial Chatbot**: Develop a chatbot that can help users track their expenses, provide financial advice, and offer investment recommendations. It's like having a \"financial advisor\" at your disposal!\n",
      "9. **Entertainment Chatbot**: Build a chatbot that can recommend movies, TV shows, and music, and even provide personalized entertainment suggestions. It's like having a \"personal entertainment critic\" at your fingertips!\n",
      "10. **Social Media Chatbot**: Create a chatbot that can help users manage their social media presence, schedule posts, and engage with their audience. It's like having a \"social media ninja\" at your disposal!\n",
      "\n",
      "These are just a few examples of the many exciting projects you can work on with chatbots. Remember, the possibilities are endless, and the future is \"bright\" for chatbot development!"
     ]
    }
   ],
   "source": [
    "stream = chain.stream({\"input\": \"Informe projetos de chatbot\"})\n",
    "for chunck in stream:\n",
    "    print(chunck.content, end=\"\", flush=True)"
   ]
  }
 ],
 "metadata": {
  "kernelspec": {
   "display_name": ".venv",
   "language": "python",
   "name": "python3"
  },
  "language_info": {
   "codemirror_mode": {
    "name": "ipython",
    "version": 3
   },
   "file_extension": ".py",
   "mimetype": "text/x-python",
   "name": "python",
   "nbconvert_exporter": "python",
   "pygments_lexer": "ipython3",
   "version": "3.10.6"
  }
 },
 "nbformat": 4,
 "nbformat_minor": 5
}
