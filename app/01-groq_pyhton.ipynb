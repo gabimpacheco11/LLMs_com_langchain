{
 "cells": [
  {
   "cell_type": "markdown",
   "id": "8b9e7a60",
   "metadata": {},
   "source": [
    "## Documentação do Groq\n",
    "https://console.groq.com/docs/text-chat"
   ]
  },
  {
   "cell_type": "markdown",
   "id": "97d6c4ac",
   "metadata": {},
   "source": [
    "## Uso de Groq com geração de texto, transcrição de video e imagem."
   ]
  },
  {
   "cell_type": "code",
   "execution_count": 2,
   "id": "a27b782e",
   "metadata": {},
   "outputs": [
    {
     "data": {
      "text/plain": [
       "True"
      ]
     },
     "execution_count": 2,
     "metadata": {},
     "output_type": "execute_result"
    }
   ],
   "source": [
    "# importando e forçando a leitura do dotenv pois existem mais de 2 api key no .env\n",
    "from dotenv import load_dotenv, find_dotenv\n",
    "load_dotenv(find_dotenv())"
   ]
  },
  {
   "cell_type": "code",
   "execution_count": 1,
   "id": "a20ff20c",
   "metadata": {},
   "outputs": [],
   "source": [
    "from groq import Groq\n",
    "client = Groq()"
   ]
  },
  {
   "cell_type": "code",
   "execution_count": 5,
   "id": "3a144009",
   "metadata": {},
   "outputs": [
    {
     "data": {
      "text/plain": [
       "ChatCompletion(id='chatcmpl-9b138c16-e1ce-42d3-a560-8add47a6acc0', choices=[Choice(finish_reason='stop', index=0, logprobs=None, message=ChatCompletionMessage(content='Uma pergunta muito pertinente!\\n\\nLLMOps e MLOps são abreviaturas que se referem a duas abordagens diferentes para gerenciar e implementar modelos de machine learning (ML) em uma empresa. Embora sejam relacionadas, elas se diferem em sua abordagem e foco.\\n\\n**LLMOps** (Legacy Line ML Operations) é uma abordagem que se concentra em automatizar egregar a totalidade do ciclo de vida de um modelo de machine learning, incluindo modelagem, depuração, treinamento, implantação, monitoramento e manutenção. Ela envolve a criação de pipelines de dados, construção de pipeline de produção, gerenciamento de versões, seguimento de mudanças e implantação de modelos em produção.\\n\\nLLMOps se concentra em simplificar e automatizar todas as etapas do ciclo de vida de um modelo de machine learning, tornando o processo mais eficiente e escalável. Essa abordagem é comum em empresas que já têm uma presença significativa em machine learning e precisam gerenciar e estabilizar um grande número de modelos em produção.\\n\\n**MLOps** (Machine Learning Operations) é uma abordagem mais ampla que se concentra em especificamente gerenciar e automatizar o desenvolvimento, treinamento, implantação e monitoramento de modelos de machine learning. Ela está mais preocupada com a modelagem e a avaliação de modelos, bem como com a criação de pipelines de dados limpos e preparados para o treinamento de modelos.\\n\\nMLOps se concentra em criar um fluxo de trabalho contínuo que inclua o desenvolvimento, treinamento, avaliação e implantação de modelos. Isso permite que os cientistas de dados e engenheiros de machine learning focem em criar modelos de alta qualidade e eficazes, ao invés de se preocuparem com a implementação e manutenção desses modelos em produção.\\n\\nEm resumo, LLMOps é uma abordagem mais geral que se concentra em gerenciar e automatizar o ciclo de vida de um modelo de machine learning, enquanto MLOps é uma abordagem específica que se concentra em gerenciar e automatizar o desenvolvimento, treinamento e implantação de modelos de machine learning.', role='assistant', executed_tools=None, function_call=None, reasoning=None, tool_calls=None))], created=1746282737, model='llama3-8b-8192', object='chat.completion', system_fingerprint='fp_179b0f92c9', usage=CompletionUsage(completion_tokens=510, prompt_tokens=32, total_tokens=542, completion_time=0.425, prompt_time=0.004461142, queue_time=0.021076888, total_time=0.429461142), usage_breakdown=UsageBreakdown(models=None), x_groq={'id': 'req_01jtb8zvr7e84ahx6vhqwyty67'})"
      ]
     },
     "execution_count": 5,
     "metadata": {},
     "output_type": "execute_result"
    }
   ],
   "source": [
    "mensagens = [\n",
    "    {\n",
    "        \"role\": \"user\",\n",
    "        \"content\": \"Explique a diferença entre LLMOps e MLOps. Responda em português\"\n",
    "    }\n",
    "]\n",
    "\n",
    "response = client.chat.completions.create(\n",
    "    messages=mensagens,\n",
    "    model=\"llama3-8b-8192\"\n",
    ")\n",
    "\n",
    "response"
   ]
  },
  {
   "cell_type": "code",
   "execution_count": 6,
   "id": "912b1f6e",
   "metadata": {},
   "outputs": [
    {
     "name": "stdout",
     "output_type": "stream",
     "text": [
      "Uma pergunta muito pertinente!\n",
      "\n",
      "LLMOps e MLOps são abreviaturas que se referem a duas abordagens diferentes para gerenciar e implementar modelos de machine learning (ML) em uma empresa. Embora sejam relacionadas, elas se diferem em sua abordagem e foco.\n",
      "\n",
      "**LLMOps** (Legacy Line ML Operations) é uma abordagem que se concentra em automatizar egregar a totalidade do ciclo de vida de um modelo de machine learning, incluindo modelagem, depuração, treinamento, implantação, monitoramento e manutenção. Ela envolve a criação de pipelines de dados, construção de pipeline de produção, gerenciamento de versões, seguimento de mudanças e implantação de modelos em produção.\n",
      "\n",
      "LLMOps se concentra em simplificar e automatizar todas as etapas do ciclo de vida de um modelo de machine learning, tornando o processo mais eficiente e escalável. Essa abordagem é comum em empresas que já têm uma presença significativa em machine learning e precisam gerenciar e estabilizar um grande número de modelos em produção.\n",
      "\n",
      "**MLOps** (Machine Learning Operations) é uma abordagem mais ampla que se concentra em especificamente gerenciar e automatizar o desenvolvimento, treinamento, implantação e monitoramento de modelos de machine learning. Ela está mais preocupada com a modelagem e a avaliação de modelos, bem como com a criação de pipelines de dados limpos e preparados para o treinamento de modelos.\n",
      "\n",
      "MLOps se concentra em criar um fluxo de trabalho contínuo que inclua o desenvolvimento, treinamento, avaliação e implantação de modelos. Isso permite que os cientistas de dados e engenheiros de machine learning focem em criar modelos de alta qualidade e eficazes, ao invés de se preocuparem com a implementação e manutenção desses modelos em produção.\n",
      "\n",
      "Em resumo, LLMOps é uma abordagem mais geral que se concentra em gerenciar e automatizar o ciclo de vida de um modelo de machine learning, enquanto MLOps é uma abordagem específica que se concentra em gerenciar e automatizar o desenvolvimento, treinamento e implantação de modelos de machine learning.\n"
     ]
    }
   ],
   "source": [
    "print(response.choices[0].message.content)"
   ]
  },
  {
   "cell_type": "markdown",
   "id": "3c01b0ae",
   "metadata": {},
   "source": [
    "## Stream\n",
    "Gerar texto de forma parcial. Em casos onde a resposta acaba sendo um texto maior, é possível usar o Stream para que a resposta comece a ser mostrada para o usuário conforme seja gerada."
   ]
  },
  {
   "cell_type": "code",
   "execution_count": 7,
   "id": "c3ab690d",
   "metadata": {},
   "outputs": [
    {
     "name": "stdout",
     "output_type": "stream",
     "text": [
      "O termo LLMOps (Low-Level Machine Learning Operations) se refere ao conjunto de práticas, ferramentas e técnicas utilizadas para gerenciar e automatizar o ciclo de vida de desenvolvimento de modelos de aprendizado de máquina (ML) de baixo nível, isto é, modelos que foram treinados e otimizados para problemas específicos.\n",
      "\n",
      "O termo MLOps (Machine Learning Operations), por outro lado, se refere ao conjunto de práticas, ferramentas e técnicas utilizadas para gerenciar e automatizar o ciclo de vida de desenvolvimento de modelos de aprendizado de máquina de alto nível, isto é, modelos que são mais complexos e se beneficiam de um maior grau de automatização e monitoramento.\n",
      "\n",
      "Em outras palavras, LLMOps se concentra em gerenciar e automatizar os processos de desenvolvimento de modelos de ML de baixo nível, enquanto MLOps se concentra em gerenciar e automatizar os processos de desenvolvimento de modelos de ML de alto nível, que são mais complexos e envolvem uma maior quantidade de variáveis e componentes.\n",
      "\n",
      "Aqui estão algumas diferenças básicas entre LLMOps e MLOps:\n",
      "\n",
      "LLMOps:\n",
      "\n",
      "* Focados em modelos de ML de baixo nível, como notebooks Jupyter, colab, etc.\n",
      "* Concentram-se em automatizar processos simples, como o treinamento e a otimização de modelos.\n",
      "* Utilizam ferramentas e técnicas específicas para modelos de ML, como TensorFlow, PyTorch, etc.\n",
      "* Sua principal preocupação é a escalabilidade e a eficiência dos modelos.\n",
      "\n",
      "MLOps:\n",
      "\n",
      "* Focados em modelos de ML de alto nível, como pipelines de ML, modelo gerenciamento, etc.\n",
      "* Concentram-se em automatizar processos complexos, como a integração de vários dados, a preparação de conjuntos de dados, etc.\n",
      "* Utilizam ferramentas e técnicas genéricas para gerenciar e automatizar o ciclo de vida de desenvolvimento de modelos, como Kubernetes, Istio, etc.\n",
      "* Sua principal preocupação é a entrega de modelos para produção e a garantia de sua qualidade e performance.\n",
      "\n",
      "Em resumo, LLMOps se concentra em gerenciar e automatizar o desenvolvimento de modelos de ML de baixo nível, enquanto MLOps se concentra em gerenciar e automatizar o desenvolvimento de modelos de ML de alto nível.None"
     ]
    },
    {
     "data": {
      "text/plain": [
       "<groq.Stream at 0x1e22ae9bf50>"
      ]
     },
     "execution_count": 7,
     "metadata": {},
     "output_type": "execute_result"
    }
   ],
   "source": [
    "mensagens = [\n",
    "    {\n",
    "        \"role\": \"user\",\n",
    "        \"content\": \"Explique a diferença entre LLMOps e MLOps. Responda em português\"\n",
    "    }\n",
    "]\n",
    "\n",
    "stream = client.chat.completions.create(\n",
    "    messages=mensagens,\n",
    "    model=\"llama3-8b-8192\",\n",
    "    stream=True\n",
    ")\n",
    "\n",
    "for chunck in stream:\n",
    "    print(chunck.choices[0].delta.content, end=\"\", flush=True)\n",
    "\n",
    "stream"
   ]
  },
  {
   "cell_type": "markdown",
   "id": "f2ea9d8c",
   "metadata": {},
   "source": [
    "## Transcrição de áudio"
   ]
  },
  {
   "cell_type": "code",
   "execution_count": 8,
   "id": "2e109e44",
   "metadata": {},
   "outputs": [],
   "source": [
    "# Função tem como objetivo melhorar a legibilidade de um texto transcrito, limitando o comprimento de cada linha sendo então\n",
    "# responsável por evitar que o texto da transcrição seja grande ao ponto de precisar usar a barra de rolagem para o lado\n",
    "\n",
    "import textwrap\n",
    "\n",
    "def format_text(response):\n",
    "    text = response.text\n",
    "    text_formatted = textwrap.fill(text, width=100)\n",
    "    print(text_formatted)"
   ]
  },
  {
   "cell_type": "code",
   "execution_count": 12,
   "id": "888d84f8",
   "metadata": {},
   "outputs": [
    {
     "name": "stdout",
     "output_type": "stream",
     "text": [
      " Seja muito bem-vindo e bem-vinda ao curso Desbravando a IA com Python Explorando modelos de Hugging\n",
      "Face Neste curso eu quero te mostrar uma das maiores plataformas de inteligência artificial que\n",
      "possui diversos modelos prontos que é a plataforma do Hugging Face E o meu objetivo neste curso é\n",
      "explorar dois tipos de modelos Modelos relacionados a processamento de linguagem natural onde\n",
      "estaremos trabalhando com análise de sentimentos, vamos trabalhar também com informações de\n",
      "perguntas e respostas, vamos trabalhar também com modelos que nos ajudem a resumir textos e assim\n",
      "por diante. Por outro lado, nós teremos também modelos relacionados à visão computacional. Estaremos\n",
      "trabalhando com aplicações para segmentar imagens, classificar imagens, detectar objetos e muito\n",
      "mais. Space além disso em algumas sessões você vai ter a oportunidade de construir o teu modelo é\n",
      "uma interface web para o teu modelo utilizando a biblioteca Gradio e também vamos aprender a colocar\n",
      "a aplicação que construirmos em produção utilizando o Hugging Face no Space espero que você possa\n",
      "estar empolgado para esse curso pois estou muito empolgado para disseminar esse conhecimento\n"
     ]
    }
   ],
   "source": [
    "from groq import Groq\n",
    "\n",
    "client = Groq()\n",
    "\n",
    "arquivo = \"../files/curso.mp3\"\n",
    "\n",
    "# Abaixo foi necessário usar o prompt pois nos testes foi verificado que o llm não entendia as palavras Hugging Face e Gradio\n",
    "with open(arquivo, \"rb\") as audio:\n",
    "    transcricao = client.audio.transcriptions.create(\n",
    "        file=(arquivo, audio.read()),\n",
    "        model=\"whisper-large-v3\",\n",
    "        response_format=\"json\",\n",
    "        language=\"pt\",\n",
    "        prompt=\"Este é um curso de Hugging Face que usa aplicação com Gradio\"\n",
    "    )\n",
    "    format_text(transcricao)\n"
   ]
  },
  {
   "cell_type": "markdown",
   "id": "f5bd3d51",
   "metadata": {},
   "source": [
    "## Vision"
   ]
  },
  {
   "cell_type": "code",
   "execution_count": 19,
   "id": "bfa6f74d",
   "metadata": {},
   "outputs": [],
   "source": [
    "import textwrap\n",
    "\n",
    "def format_text(response):\n",
    "    text = response.content\n",
    "    text_formatted = textwrap.fill(text, width=100)\n",
    "    print(text_formatted)"
   ]
  },
  {
   "cell_type": "code",
   "execution_count": null,
   "id": "8d72ef5d",
   "metadata": {},
   "outputs": [],
   "source": [
    "completion = client.chat.completions.create(\n",
    "    model=\"llama-3.2-11b-vision-preview\",\n",
    "    messages=[{\n",
    "        \"role\": \"user\",\n",
    "        \"content\": [\n",
    "            {\"type\": \"text\", \"text\": \"O que há nesta imagem?\"},\n",
    "            {\"type\": \"image_url\", \"image_url\": {\n",
    "                \"url\": \"https://uploads.jovemnerd.com.br/wp-content/uploads/2025/04/the_last_of_us_poster_ellie_e_jo__r07jq6.jpg?ims=1210x544/filters:quality(75)\"\n",
    "            }}\n",
    "        ]\n",
    "    }],\n",
    "    temperature=1,\n",
    "    max_tokens=1024,\n",
    "    top_p=1,\n",
    "    stream=False,\n",
    "    stop=None\n",
    ")\n"
   ]
  },
  {
   "cell_type": "code",
   "execution_count": null,
   "id": "93fa8818",
   "metadata": {},
   "outputs": [],
   "source": [
    "format_text(completion.choices[0].message)"
   ]
  }
 ],
 "metadata": {
  "kernelspec": {
   "display_name": ".venv",
   "language": "python",
   "name": "python3"
  },
  "language_info": {
   "codemirror_mode": {
    "name": "ipython",
    "version": 3
   },
   "file_extension": ".py",
   "mimetype": "text/x-python",
   "name": "python",
   "nbconvert_exporter": "python",
   "pygments_lexer": "ipython3",
   "version": "3.10.6"
  }
 },
 "nbformat": 4,
 "nbformat_minor": 5
}
