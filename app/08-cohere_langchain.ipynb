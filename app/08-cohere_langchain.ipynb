{
 "cells": [
  {
   "cell_type": "markdown",
   "id": "0600089d",
   "metadata": {},
   "source": [
    "## Documentação Cohere\n",
    "https://docs.cohere.com/cohere-documentation"
   ]
  },
  {
   "cell_type": "code",
   "execution_count": 1,
   "id": "a4ac01e2",
   "metadata": {},
   "outputs": [],
   "source": [
    "from dotenv import load_dotenv, find_dotenv\n",
    "import os\n",
    "\n",
    "load_dotenv(find_dotenv())\n",
    "\n",
    "api_key = os.environ.get(\"COHERE_API_KEY\")"
   ]
  },
  {
   "cell_type": "code",
   "execution_count": 2,
   "id": "9af79c11",
   "metadata": {},
   "outputs": [],
   "source": [
    "from langchain_cohere import ChatCohere\n",
    "chat = ChatCohere(model=\"command-r-plus\", temperature=1)"
   ]
  },
  {
   "cell_type": "code",
   "execution_count": 4,
   "id": "5fae1dc2",
   "metadata": {},
   "outputs": [
    {
     "name": "stdout",
     "output_type": "stream",
     "text": [
      "Olá! Tudo bem, e com você? Como posso ajudá-lo hoje?\n"
     ]
    }
   ],
   "source": [
    "response = chat.invoke(\"E ai, tudo bem?\")\n",
    "print(response.content)"
   ]
  },
  {
   "cell_type": "markdown",
   "id": "25b9dfe0",
   "metadata": {},
   "source": [
    "## Integrando com Prompt Template"
   ]
  },
  {
   "cell_type": "code",
   "execution_count": 6,
   "id": "69c94510",
   "metadata": {},
   "outputs": [
    {
     "name": "stdout",
     "output_type": "stream",
     "text": [
      "As principais métricas no contexto de Machine Learning são: precisão, revocação, F1-score, MAPE e RMSE. Precisão é a proporção de previsões corretas positivas em relação a todas as previsões positivas. Revocação é a proporção de previsões corretas positivas em relação a todos os resultados positivos reais.\n"
     ]
    }
   ],
   "source": [
    "from langchain_core.prompts import ChatPromptTemplate\n",
    "\n",
    "template = ChatPromptTemplate.from_messages([\n",
    "    (\"system\", \"Você é um especialista em Machine Learning\"),\n",
    "    (\"user\", \"Explique de forma simples e clara sobre {assunto} com até {n_palavras} palavras\")\n",
    "])\n",
    "\n",
    "chain = template | chat\n",
    "response = chain.invoke({\"assunto\": \"principais métricas\", \"n_palavras\": 50})\n",
    "print(response.content)"
   ]
  },
  {
   "cell_type": "markdown",
   "id": "bb2f030a",
   "metadata": {},
   "source": [
    "## Stream"
   ]
  },
  {
   "cell_type": "code",
   "execution_count": 7,
   "id": "b37b9cd3",
   "metadata": {},
   "outputs": [
    {
     "name": "stdout",
     "output_type": "stream",
     "text": [
      "- Regressão Linear: Prevê o valor de uma variável contínua com base em outras variáveis.\n",
      "\n",
      "- Classificação: Atribui rótulos a dados, como spam ou não spam. Exemplos: árvores de decisão, K-vizinhos mais próximos.\n",
      "\n",
      "- Clustering: agrupa dados semelhantes, útil para segmentação de clientes. Exemplo: K-means.\n",
      "\n",
      "- Redes Neurais: Inspiradas no cérebro, aprendem tarefas complexas.\n",
      "\n",
      "- Aprendizado por Reforço: O agente aprende a tomar ações para maximizar recompensas."
     ]
    }
   ],
   "source": [
    "stream = chain.stream({\"assunto\": \"principais algoritmos\", \"n_palavras\": 50})\n",
    "for chunck in stream:\n",
    "    print(chunck.content, end=\"\", flush=True)"
   ]
  }
 ],
 "metadata": {
  "kernelspec": {
   "display_name": ".venv",
   "language": "python",
   "name": "python3"
  },
  "language_info": {
   "codemirror_mode": {
    "name": "ipython",
    "version": 3
   },
   "file_extension": ".py",
   "mimetype": "text/x-python",
   "name": "python",
   "nbconvert_exporter": "python",
   "pygments_lexer": "ipython3",
   "version": "3.11.3"
  }
 },
 "nbformat": 4,
 "nbformat_minor": 5
}
