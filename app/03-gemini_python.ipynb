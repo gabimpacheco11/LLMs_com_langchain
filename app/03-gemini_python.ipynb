{
 "cells": [
  {
   "cell_type": "code",
   "execution_count": 1,
   "id": "4e806077",
   "metadata": {},
   "outputs": [
    {
     "data": {
      "text/plain": [
       "True"
      ]
     },
     "execution_count": 1,
     "metadata": {},
     "output_type": "execute_result"
    }
   ],
   "source": [
    "from dotenv import load_dotenv, find_dotenv\n",
    "load_dotenv(find_dotenv())"
   ]
  },
  {
   "cell_type": "code",
   "execution_count": 2,
   "id": "9504f723",
   "metadata": {},
   "outputs": [],
   "source": [
    "import os\n",
    "api_key = os.environ.get(\"GEMINI_API_KEY\")"
   ]
  },
  {
   "cell_type": "code",
   "execution_count": 3,
   "id": "a346042a",
   "metadata": {},
   "outputs": [],
   "source": [
    "import google.generativeai as genai\n",
    "genai.configure(api_key=api_key)"
   ]
  },
  {
   "cell_type": "code",
   "execution_count": 4,
   "id": "48e4a329",
   "metadata": {},
   "outputs": [],
   "source": [
    "model = genai.GenerativeModel(\"gemini-1.5-flash\")\n",
    "response = model.generate_content(\"Informe projetos de chatbot\")"
   ]
  },
  {
   "cell_type": "code",
   "execution_count": 5,
   "id": "ad223b61",
   "metadata": {},
   "outputs": [
    {
     "data": {
      "text/plain": [
       "response:\n",
       "GenerateContentResponse(\n",
       "    done=True,\n",
       "    iterator=None,\n",
       "    result=protos.GenerateContentResponse({\n",
       "      \"candidates\": [\n",
       "        {\n",
       "          \"content\": {\n",
       "            \"parts\": [\n",
       "              {\n",
       "                \"text\": \"## Projetos de Chatbot: Uma Vis\\u00e3o Geral\\n\\nOs projetos de chatbot abrangem uma vasta gama de aplica\\u00e7\\u00f5es e complexidades, desde simples bots de atendimento ao cliente at\\u00e9 sistemas de IA sofisticados capazes de conversas naturais e complexas.  Para apresentar uma vis\\u00e3o completa, dividirei os projetos em categorias com exemplos:\\n\\n**I. Por Tipo de Aplica\\u00e7\\u00e3o:**\\n\\n* **Atendimento ao Cliente:** Este \\u00e9 o tipo mais comum.  Bots respondem a perguntas frequentes, fornecem suporte t\\u00e9cnico b\\u00e1sico, encaminham chamadas e agendam compromissos.\\n\\n    * **Exemplo:** Um chatbot em um site de e-commerce que ajuda clientes a encontrar produtos, verificar o status do pedido e resolver problemas de entrega.\\n    * **Tecnologias:** Dialogflow, Rasa, Amazon Lex, IBM Watson Assistant.\\n\\n* **Assistentes Virtuais:** Bots mais avan\\u00e7ados que podem realizar tarefas complexas, como controlar dispositivos dom\\u00e9sticos inteligentes, definir lembretes, enviar mensagens e acessar informa\\u00e7\\u00f5es online.\\n\\n    * **Exemplo:** A Siri, Alexa e o Google Assistant.\\n    * **Tecnologias:**  Plataformas de assistentes virtuais espec\\u00edficas, APIs de integra\\u00e7\\u00e3o com servi\\u00e7os externos.\\n\\n* **Educa\\u00e7\\u00e3o:** Bots que auxiliam no aprendizado, fornecendo tutoriais, respondendo a perguntas sobre o assunto e oferecendo feedback.\\n\\n    * **Exemplo:** Um chatbot que ensina um novo idioma, ou que ajuda alunos a entender conceitos complexos em matem\\u00e1tica.\\n    * **Tecnologias:**  Plataformas de desenvolvimento de chatbot com integra\\u00e7\\u00e3o com bancos de dados educacionais.\\n\\n* **Sa\\u00fade:** Bots que podem fornecer informa\\u00e7\\u00f5es m\\u00e9dicas b\\u00e1sicas, agendar consultas, monitorar pacientes e oferecer suporte emocional.\\n\\n    * **Exemplo:** Um chatbot que acompanha o progresso de pacientes com doen\\u00e7as cr\\u00f4nicas, lembrando-os de tomar rem\\u00e9dios e agendando consultas.\\n    * **Tecnologias:** Plataformas de chatbot com seguran\\u00e7a e conformidade com regulamenta\\u00e7\\u00f5es de sa\\u00fade (HIPAA, GDPR).\\n\\n* **Entretenimento:** Bots que oferecem jogos, contam hist\\u00f3rias, ou interagem em contextos l\\u00fadicos.\\n\\n    * **Exemplo:** Um chatbot que joga \\\"Adivinhe o N\\u00famero\\\" ou que gera hist\\u00f3rias interativas com o usu\\u00e1rio.\\n    * **Tecnologias:**  Plataformas de chatbot com foco em processamento de linguagem natural criativo.\\n\\n* **Recursos Humanos (RH):** Bots para agendamento de entrevistas, responder a perguntas sobre benef\\u00edcios e pol\\u00edticas da empresa, etc.\\n\\n    * **Exemplo:** Um chatbot para responder perguntas de candidatos sobre vagas de emprego.\\n    * **Tecnologias:** Plataformas de chatbot integradas com sistemas de RH.\\n\\n\\n**II. Por N\\u00edvel de Complexidade:**\\n\\n* **Bots baseados em regras:** Seguem um fluxo de conversa\\u00e7\\u00e3o pr\\u00e9-definido, com respostas espec\\u00edficas para cada entrada. Simples, mas limitados em suas capacidades.\\n\\n* **Bots baseados em Machine Learning (ML):** Utilizam algoritmos de aprendizado de m\\u00e1quina para entender a inten\\u00e7\\u00e3o do usu\\u00e1rio e gerar respostas mais naturais e contextuais. Mais complexos, mas mais robustos e adapt\\u00e1veis.\\n\\n* **Bots com NLU (Natural Language Understanding) avan\\u00e7ado:** Compreendem nuances da linguagem humana, como sarcasmo, ambiguidade e emo\\u00e7\\u00f5es. Muito complexos, demandando grandes quantidades de dados para treinamento.\\n\\n\\n**III. Por Plataforma:**\\n\\n* **Plataformas de desenvolvimento de chatbot:** Dialogflow (Google), Rasa, Amazon Lex, IBM Watson Assistant, Microsoft Bot Framework. Estas oferecem ferramentas para constru\\u00e7\\u00e3o, treinamento e implanta\\u00e7\\u00e3o de chatbots.\\n\\n* **Integra\\u00e7\\u00e3o com outras plataformas:** Muitos chatbots s\\u00e3o integrados a plataformas de mensagens como Facebook Messenger, WhatsApp, Telegram, Slack, etc.\\n\\n\\n**Considera\\u00e7\\u00f5es Importantes:**\\n\\n* **Design de Conversa\\u00e7\\u00e3o:** \\u00c9 crucial para a experi\\u00eancia do usu\\u00e1rio.  Um bom design garante que a intera\\u00e7\\u00e3o seja natural, intuitiva e eficiente.\\n* **Processamento de Linguagem Natural (PNL):** Essencial para entender a linguagem humana, reconhecer a inten\\u00e7\\u00e3o do usu\\u00e1rio e gerar respostas relevantes.\\n* **Integra\\u00e7\\u00e3o com outros sistemas:** Muitos chatbots precisam acessar e interagir com outros sistemas (bancos de dados, APIs, etc.) para realizar suas tarefas.\\n* **Teste e itera\\u00e7\\u00e3o:**  O desenvolvimento de um chatbot \\u00e9 um processo iterativo.  \\u00c9 necess\\u00e1rio testar continuamente e melhorar o desempenho com base no feedback do usu\\u00e1rio.\\n\\n\\nEste \\u00e9 um panorama geral dos projetos de chatbot. A escolha da melhor abordagem depender\\u00e1 das necessidades espec\\u00edficas de cada aplica\\u00e7\\u00e3o.  Lembre-se de que a escolha da tecnologia, a complexidade do modelo e o design da conversa\\u00e7\\u00e3o s\\u00e3o fatores cr\\u00edticos para o sucesso de um projeto de chatbot.\\n\"\n",
       "              }\n",
       "            ],\n",
       "            \"role\": \"model\"\n",
       "          },\n",
       "          \"finish_reason\": \"STOP\",\n",
       "          \"avg_logprobs\": -0.30786769488151955\n",
       "        }\n",
       "      ],\n",
       "      \"usage_metadata\": {\n",
       "        \"prompt_token_count\": 4,\n",
       "        \"candidates_token_count\": 997,\n",
       "        \"total_token_count\": 1001\n",
       "      },\n",
       "      \"model_version\": \"gemini-1.5-flash\"\n",
       "    }),\n",
       ")"
      ]
     },
     "execution_count": 5,
     "metadata": {},
     "output_type": "execute_result"
    }
   ],
   "source": [
    "response"
   ]
  },
  {
   "cell_type": "code",
   "execution_count": 11,
   "id": "cb8ffbb9",
   "metadata": {},
   "outputs": [],
   "source": [
    "import textwrap\n",
    "\n",
    "def format_text(response):\n",
    "    text = response\n",
    "    text_formatted = textwrap.fill(text, width=100)\n",
    "    print(text_formatted)"
   ]
  },
  {
   "cell_type": "code",
   "execution_count": 12,
   "id": "4e2f000e",
   "metadata": {},
   "outputs": [
    {
     "name": "stdout",
     "output_type": "stream",
     "text": [
      "## Projetos de Chatbot: Uma Visão Geral  Os projetos de chatbot abrangem uma vasta gama de\n",
      "aplicações e complexidades, desde simples bots de atendimento ao cliente até sistemas de IA\n",
      "sofisticados capazes de conversas naturais e complexas.  Para apresentar uma visão completa,\n",
      "dividirei os projetos em categorias com exemplos:  **I. Por Tipo de Aplicação:**  * **Atendimento ao\n",
      "Cliente:** Este é o tipo mais comum.  Bots respondem a perguntas frequentes, fornecem suporte\n",
      "técnico básico, encaminham chamadas e agendam compromissos.      * **Exemplo:** Um chatbot em um\n",
      "site de e-commerce que ajuda clientes a encontrar produtos, verificar o status do pedido e resolver\n",
      "problemas de entrega.     * **Tecnologias:** Dialogflow, Rasa, Amazon Lex, IBM Watson Assistant.  *\n",
      "**Assistentes Virtuais:** Bots mais avançados que podem realizar tarefas complexas, como controlar\n",
      "dispositivos domésticos inteligentes, definir lembretes, enviar mensagens e acessar informações\n",
      "online.      * **Exemplo:** A Siri, Alexa e o Google Assistant.     * **Tecnologias:**  Plataformas\n",
      "de assistentes virtuais específicas, APIs de integração com serviços externos.  * **Educação:** Bots\n",
      "que auxiliam no aprendizado, fornecendo tutoriais, respondendo a perguntas sobre o assunto e\n",
      "oferecendo feedback.      * **Exemplo:** Um chatbot que ensina um novo idioma, ou que ajuda alunos a\n",
      "entender conceitos complexos em matemática.     * **Tecnologias:**  Plataformas de desenvolvimento\n",
      "de chatbot com integração com bancos de dados educacionais.  * **Saúde:** Bots que podem fornecer\n",
      "informações médicas básicas, agendar consultas, monitorar pacientes e oferecer suporte emocional.\n",
      "* **Exemplo:** Um chatbot que acompanha o progresso de pacientes com doenças crônicas, lembrando-os\n",
      "de tomar remédios e agendando consultas.     * **Tecnologias:** Plataformas de chatbot com segurança\n",
      "e conformidade com regulamentações de saúde (HIPAA, GDPR).  * **Entretenimento:** Bots que oferecem\n",
      "jogos, contam histórias, ou interagem em contextos lúdicos.      * **Exemplo:** Um chatbot que joga\n",
      "\"Adivinhe o Número\" ou que gera histórias interativas com o usuário.     * **Tecnologias:**\n",
      "Plataformas de chatbot com foco em processamento de linguagem natural criativo.  * **Recursos\n",
      "Humanos (RH):** Bots para agendamento de entrevistas, responder a perguntas sobre benefícios e\n",
      "políticas da empresa, etc.      * **Exemplo:** Um chatbot para responder perguntas de candidatos\n",
      "sobre vagas de emprego.     * **Tecnologias:** Plataformas de chatbot integradas com sistemas de RH.\n",
      "**II. Por Nível de Complexidade:**  * **Bots baseados em regras:** Seguem um fluxo de conversação\n",
      "pré-definido, com respostas específicas para cada entrada. Simples, mas limitados em suas\n",
      "capacidades.  * **Bots baseados em Machine Learning (ML):** Utilizam algoritmos de aprendizado de\n",
      "máquina para entender a intenção do usuário e gerar respostas mais naturais e contextuais. Mais\n",
      "complexos, mas mais robustos e adaptáveis.  * **Bots com NLU (Natural Language Understanding)\n",
      "avançado:** Compreendem nuances da linguagem humana, como sarcasmo, ambiguidade e emoções. Muito\n",
      "complexos, demandando grandes quantidades de dados para treinamento.   **III. Por Plataforma:**  *\n",
      "**Plataformas de desenvolvimento de chatbot:** Dialogflow (Google), Rasa, Amazon Lex, IBM Watson\n",
      "Assistant, Microsoft Bot Framework. Estas oferecem ferramentas para construção, treinamento e\n",
      "implantação de chatbots.  * **Integração com outras plataformas:** Muitos chatbots são integrados a\n",
      "plataformas de mensagens como Facebook Messenger, WhatsApp, Telegram, Slack, etc.   **Considerações\n",
      "Importantes:**  * **Design de Conversação:** É crucial para a experiência do usuário.  Um bom design\n",
      "garante que a interação seja natural, intuitiva e eficiente. * **Processamento de Linguagem Natural\n",
      "(PNL):** Essencial para entender a linguagem humana, reconhecer a intenção do usuário e gerar\n",
      "respostas relevantes. * **Integração com outros sistemas:** Muitos chatbots precisam acessar e\n",
      "interagir com outros sistemas (bancos de dados, APIs, etc.) para realizar suas tarefas. * **Teste e\n",
      "iteração:**  O desenvolvimento de um chatbot é um processo iterativo.  É necessário testar\n",
      "continuamente e melhorar o desempenho com base no feedback do usuário.   Este é um panorama geral\n",
      "dos projetos de chatbot. A escolha da melhor abordagem dependerá das necessidades específicas de\n",
      "cada aplicação.  Lembre-se de que a escolha da tecnologia, a complexidade do modelo e o design da\n",
      "conversação são fatores críticos para o sucesso de um projeto de chatbot.\n"
     ]
    }
   ],
   "source": [
    "format_text(response.text)"
   ]
  },
  {
   "cell_type": "markdown",
   "id": "e205e582",
   "metadata": {},
   "source": [
    "## Stream"
   ]
  },
  {
   "cell_type": "code",
   "execution_count": 13,
   "id": "a2d20ef0",
   "metadata": {},
   "outputs": [
    {
     "name": "stdout",
     "output_type": "stream",
     "text": [
      "Há uma variedade enorme de projetos de chatbot, desde projetos simples até sistemas complexos de IA.  Para melhor te informar, preciso de mais contexto. Que tipo de informação você procura?  Por exemplo, você está interessado em:\n",
      "\n",
      "* **Projetos por tipo de chatbot:**  (ex: chatbots de atendimento ao cliente, chatbots educacionais, chatbots para jogos, chatbots para saúde, etc.)\n",
      "* **Projetos por tecnologia utilizada:** (ex: Rasa, Dialogflow, Amazon Lex, Microsoft Bot Framework, etc.)\n",
      "* **Projetos por nível de complexidade:** (ex: projetos simples para iniciantes, projetos avançados com integrações complexas)\n",
      "* **Projetos open-source:** (ex: exemplos de código disponíveis no GitHub)\n",
      "* **Projetos comerciais:** (ex: exemplos de empresas que utilizam chatbots em seus negócios)\n",
      "* **Projetos de pesquisa:** (ex: desenvolvimento de novas tecnologias para chatbots)\n",
      "* **Casos de uso específicos:** (ex: como um chatbot pode melhorar o atendimento ao cliente em um banco)\n",
      "* **Desafios e limitações dos projetos:** (ex: problemas com o processamento de linguagem natural, dificuldade em lidar com conversas complexas)\n",
      "\n",
      "\n",
      "Por favor, seja mais específico em sua solicitação.  Quanto mais detalhes você fornecer, melhor poderei ajudá-lo.\n"
     ]
    }
   ],
   "source": [
    "stream = model.generate_content(\"Informe projetos de chatbot\", stream=True)\n",
    "\n",
    "complete_response = \"\"\n",
    "for chunck in stream:\n",
    "    print(chunck.text, end=\"\", flush=True)\n",
    "    complete_response += chunck.text"
   ]
  },
  {
   "cell_type": "markdown",
   "id": "907ce2ba",
   "metadata": {},
   "source": [
    "## Imagens"
   ]
  },
  {
   "cell_type": "code",
   "execution_count": 15,
   "id": "66789454",
   "metadata": {},
   "outputs": [
    {
     "name": "stdout",
     "output_type": "stream",
     "text": [
      "Esta é uma imagem promocional da série da HBO \"The Last of Us\". O design geral é sombrio e taciturno, com um fundo predominantemente preto. A imagem é dominada por duas figuras: um homem e uma menina mais jovem. \n",
      "\n",
      "\n",
      "O homem, presumivelmente Joel, é mostrado em primeiro plano, com o perfil esquerdo de seu rosto visível. Seu rosto está parcialmente na sombra, adicionando à atmosfera sinistra. A menina, presumivelmente Ellie, está atrás dele, menor e aparentemente sob sua proteção. Ela carrega um rifle e parece estar usando roupas práticas e pesadas, sugerindo um ambiente hostil.\n",
      "\n",
      "\n",
      "Entre as duas figuras, o título \"The Last of Us\" é mostrado em letras grandes e em negrito. O logotipo \"HBO Original\" é colocado acima do título em uma fonte menor. Na parte inferior da imagem, há uma frase que diz: \"Todo caminho tem um preço\". \n",
      "\n",
      "\n",
      "No fundo da imagem, um cenário urbano dilapidado é visível, com prédios arruinados e carros abandonados, evocando um cenário pós-apocalíptico. A vegetação que cresce sobre as estruturas urbanas sugere que a natureza está recuperando o ambiente construído. O esquema de cores geral é silenciado, com tons de verde, marrom e cinza predominando.\n"
     ]
    }
   ],
   "source": [
    "import httpx\n",
    "import os \n",
    "import base64\n",
    "\n",
    "model = genai.GenerativeModel(model_name=\"gemini-1.5-pro\")\n",
    "image_path = \"https://uploads.jovemnerd.com.br/wp-content/uploads/2025/04/the_last_of_us_poster_ellie_e_jo__r07jq6.jpg?ims=1210x544/filters:quality(75)\"\n",
    "image = httpx.get(image_path)\n",
    "\n",
    "prompt = \"Descreva a imagem para mim\"\n",
    "response = model.generate_content([\n",
    "    {\n",
    "        \"mime_type\": \"image/jpg\",\n",
    "        \"data\": base64.b64encode(image.content).decode(\"utf-8\")\n",
    "    },\n",
    "    prompt\n",
    "])\n",
    "\n",
    "print(response.text)"
   ]
  },
  {
   "cell_type": "markdown",
   "id": "0eab1a65",
   "metadata": {},
   "source": [
    "## Historico da Conversa"
   ]
  },
  {
   "cell_type": "code",
   "execution_count": 17,
   "id": "914d2582",
   "metadata": {},
   "outputs": [
    {
     "name": "stdout",
     "output_type": "stream",
     "text": [
      "LangChain é uma biblioteca de código aberto que facilita a construção de aplicações que utilizam\n",
      "modelos de linguagem grandes (LLMs).  Em termos simples, ela te dá as ferramentas para conectar um\n",
      "LLM (como o ChatGPT) com outras fontes de dados e funcionalidades, criando aplicações mais robustas\n",
      "e úteis do que apenas usar o LLM sozinho.  Imagine o LLM como um cérebro muito inteligente, mas sem\n",
      "memória e sem acesso ao mundo real.  LangChain atua como o corpo e os sentidos desse cérebro,\n",
      "permitindo que ele:  * **Lembre-se de conversas anteriores:**  Não precisa repetir tudo a cada\n",
      "pergunta. * **Acesse e processe informações externas:** Pode buscar dados na internet, em bases de\n",
      "dados, ou em arquivos locais. * **Execute ações no mundo real:** Pode enviar e-mails, criar\n",
      "documentos, ou interagir com outras aplicações.  Em resumo, LangChain simplifica a construção de\n",
      "aplicações complexas com LLMs, conectando-os a outras fontes de informação e permitindo a criação de\n",
      "fluxos de trabalho mais poderosos e úteis.\n"
     ]
    }
   ],
   "source": [
    "model = genai.GenerativeModel(\"gemini-1.5-flash\")\n",
    "chat = model.start_chat(history=[])\n",
    "response = chat.send_message(\"Explique de forma simples e clara o que é Langchain\")\n",
    "format_text(response.text)"
   ]
  },
  {
   "cell_type": "code",
   "execution_count": 18,
   "id": "d8107861",
   "metadata": {},
   "outputs": [
    {
     "data": {
      "text/plain": [
       "[parts {\n",
       "   text: \"Explique de forma simples e clara o que é Langchain\"\n",
       " }\n",
       " role: \"user\",\n",
       " parts {\n",
       "   text: \"LangChain é uma biblioteca de código aberto que facilita a construção de aplicações que utilizam modelos de linguagem grandes (LLMs).  Em termos simples, ela te dá as ferramentas para conectar um LLM (como o ChatGPT) com outras fontes de dados e funcionalidades, criando aplicações mais robustas e úteis do que apenas usar o LLM sozinho.\\n\\nImagine o LLM como um cérebro muito inteligente, mas sem memória e sem acesso ao mundo real.  LangChain atua como o corpo e os sentidos desse cérebro, permitindo que ele:\\n\\n* **Lembre-se de conversas anteriores:**  Não precisa repetir tudo a cada pergunta.\\n* **Acesse e processe informações externas:** Pode buscar dados na internet, em bases de dados, ou em arquivos locais.\\n* **Execute ações no mundo real:** Pode enviar e-mails, criar documentos, ou interagir com outras aplicações.\\n\\nEm resumo, LangChain simplifica a construção de aplicações complexas com LLMs, conectando-os a outras fontes de informação e permitindo a criação de fluxos de trabalho mais poderosos e úteis.\\n\"\n",
       " }\n",
       " role: \"model\"]"
      ]
     },
     "execution_count": 18,
     "metadata": {},
     "output_type": "execute_result"
    }
   ],
   "source": [
    "chat.history"
   ]
  },
  {
   "cell_type": "code",
   "execution_count": 19,
   "id": "0adce70b",
   "metadata": {},
   "outputs": [
    {
     "name": "stdout",
     "output_type": "stream",
     "text": [
      "LangChain permite a criação de uma grande variedade de aplicações. Aqui estão alguns exemplos de\n",
      "casos de uso, categorizados para melhor compreensão:  **1. Chatbots aprimorados:**  * **Chatbot com\n",
      "memória:**  Um chatbot que lembra o contexto da conversa anterior, permitindo uma interação mais\n",
      "natural e fluida, sem precisar repetir informações a cada troca de mensagens. * **Chatbot com acesso\n",
      "a bases de conhecimento:** Um chatbot que pode acessar e processar informações de uma base de dados\n",
      "interna (por exemplo, uma base de conhecimento de uma empresa) para responder perguntas precisas e\n",
      "fornecer suporte ao cliente mais eficiente. * **Chatbot que realiza ações:** Um chatbot que não só\n",
      "responde perguntas, mas também executa tarefas, como agendar reuniões, enviar e-mails ou fazer\n",
      "reservas.  **2. Aplicações de busca e recuperação de informação:**  * **Busca semântica:**\n",
      "Recuperação de informações relevantes a partir de uma grande quantidade de dados, utilizando a\n",
      "compreensão semântica do LLM para encontrar resultados mais precisos do que uma busca por palavras-\n",
      "chave tradicional. * **Resumos personalizados:**  Gerar resumos concisos e personalizados de\n",
      "documentos longos, adaptando-se às necessidades do usuário. * **Question Answering sobre\n",
      "documentos:**  Permitir que usuários façam perguntas sobre um documento específico e obterem\n",
      "respostas precisas, extraídas do próprio documento.  **3. Automação de tarefas:**  * **Geração\n",
      "automática de relatórios:** Criar relatórios automatizados a partir de dados brutos, usando o LLM\n",
      "para estruturar e escrever o texto. * **Criação de código:** Auxiliar programadores na geração de\n",
      "código, utilizando o LLM para sugerir trechos de código ou gerar código completo a partir de\n",
      "descrições em linguagem natural. * **Automação de fluxos de trabalho:** Integrar o LLM com outras\n",
      "aplicações para automatizar tarefas complexas que envolvam múltiplas etapas.   **4. Aplicações\n",
      "criativas:**  * **Geração de histórias:** Criar histórias interativas ou scripts para jogos,\n",
      "utilizando o LLM para gerar narrativas coerentes e envolventes. * **Geração de diferentes tipos de\n",
      "texto:** Escrever poemas, músicas, roteiros de filmes ou qualquer outro tipo de texto criativo com a\n",
      "ajuda de um LLM.   Em todos esses casos, LangChain desempenha um papel crucial na integração e\n",
      "orquestração dos diferentes componentes da aplicação, permitindo que o LLM trabalhe em conjunto com\n",
      "outras ferramentas para criar aplicações mais robustas e úteis.\n"
     ]
    }
   ],
   "source": [
    "response = chat.send_message(\"Agora de exemplos de casos de uso\")\n",
    "format_text(response.text)"
   ]
  },
  {
   "cell_type": "code",
   "execution_count": 20,
   "id": "85cc29ee",
   "metadata": {},
   "outputs": [
    {
     "data": {
      "text/plain": [
       "[parts {\n",
       "   text: \"Explique de forma simples e clara o que é Langchain\"\n",
       " }\n",
       " role: \"user\",\n",
       " parts {\n",
       "   text: \"LangChain é uma biblioteca de código aberto que facilita a construção de aplicações que utilizam modelos de linguagem grandes (LLMs).  Em termos simples, ela te dá as ferramentas para conectar um LLM (como o ChatGPT) com outras fontes de dados e funcionalidades, criando aplicações mais robustas e úteis do que apenas usar o LLM sozinho.\\n\\nImagine o LLM como um cérebro muito inteligente, mas sem memória e sem acesso ao mundo real.  LangChain atua como o corpo e os sentidos desse cérebro, permitindo que ele:\\n\\n* **Lembre-se de conversas anteriores:**  Não precisa repetir tudo a cada pergunta.\\n* **Acesse e processe informações externas:** Pode buscar dados na internet, em bases de dados, ou em arquivos locais.\\n* **Execute ações no mundo real:** Pode enviar e-mails, criar documentos, ou interagir com outras aplicações.\\n\\nEm resumo, LangChain simplifica a construção de aplicações complexas com LLMs, conectando-os a outras fontes de informação e permitindo a criação de fluxos de trabalho mais poderosos e úteis.\\n\"\n",
       " }\n",
       " role: \"model\",\n",
       " parts {\n",
       "   text: \"Agora de exemplos de casos de uso\"\n",
       " }\n",
       " role: \"user\",\n",
       " parts {\n",
       "   text: \"LangChain permite a criação de uma grande variedade de aplicações. Aqui estão alguns exemplos de casos de uso, categorizados para melhor compreensão:\\n\\n**1. Chatbots aprimorados:**\\n\\n* **Chatbot com memória:**  Um chatbot que lembra o contexto da conversa anterior, permitindo uma interação mais natural e fluida, sem precisar repetir informações a cada troca de mensagens.\\n* **Chatbot com acesso a bases de conhecimento:** Um chatbot que pode acessar e processar informações de uma base de dados interna (por exemplo, uma base de conhecimento de uma empresa) para responder perguntas precisas e fornecer suporte ao cliente mais eficiente.\\n* **Chatbot que realiza ações:** Um chatbot que não só responde perguntas, mas também executa tarefas, como agendar reuniões, enviar e-mails ou fazer reservas.\\n\\n**2. Aplicações de busca e recuperação de informação:**\\n\\n* **Busca semântica:**  Recuperação de informações relevantes a partir de uma grande quantidade de dados, utilizando a compreensão semântica do LLM para encontrar resultados mais precisos do que uma busca por palavras-chave tradicional.\\n* **Resumos personalizados:**  Gerar resumos concisos e personalizados de documentos longos, adaptando-se às necessidades do usuário.\\n* **Question Answering sobre documentos:**  Permitir que usuários façam perguntas sobre um documento específico e obterem respostas precisas, extraídas do próprio documento.\\n\\n**3. Automação de tarefas:**\\n\\n* **Geração automática de relatórios:** Criar relatórios automatizados a partir de dados brutos, usando o LLM para estruturar e escrever o texto.\\n* **Criação de código:** Auxiliar programadores na geração de código, utilizando o LLM para sugerir trechos de código ou gerar código completo a partir de descrições em linguagem natural.\\n* **Automação de fluxos de trabalho:** Integrar o LLM com outras aplicações para automatizar tarefas complexas que envolvam múltiplas etapas.\\n\\n\\n**4. Aplicações criativas:**\\n\\n* **Geração de histórias:** Criar histórias interativas ou scripts para jogos, utilizando o LLM para gerar narrativas coerentes e envolventes.\\n* **Geração de diferentes tipos de texto:** Escrever poemas, músicas, roteiros de filmes ou qualquer outro tipo de texto criativo com a ajuda de um LLM.\\n\\n\\nEm todos esses casos, LangChain desempenha um papel crucial na integração e orquestração dos diferentes componentes da aplicação, permitindo que o LLM trabalhe em conjunto com outras ferramentas para criar aplicações mais robustas e úteis.\\n\"\n",
       " }\n",
       " role: \"model\"]"
      ]
     },
     "execution_count": 20,
     "metadata": {},
     "output_type": "execute_result"
    }
   ],
   "source": [
    "chat.history"
   ]
  }
 ],
 "metadata": {
  "kernelspec": {
   "display_name": ".venv",
   "language": "python",
   "name": "python3"
  },
  "language_info": {
   "codemirror_mode": {
    "name": "ipython",
    "version": 3
   },
   "file_extension": ".py",
   "mimetype": "text/x-python",
   "name": "python",
   "nbconvert_exporter": "python",
   "pygments_lexer": "ipython3",
   "version": "3.10.6"
  }
 },
 "nbformat": 4,
 "nbformat_minor": 5
}
