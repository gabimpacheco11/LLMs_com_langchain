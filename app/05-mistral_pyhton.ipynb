{
 "cells": [
  {
   "cell_type": "markdown",
   "id": "77de6e5b",
   "metadata": {},
   "source": [
    "## Documentação sobre Mistral\n",
    "https://docs.mistral.ai/capabilities/completion/"
   ]
  },
  {
   "cell_type": "code",
   "execution_count": 1,
   "id": "6699a304",
   "metadata": {},
   "outputs": [],
   "source": [
    "from dotenv import load_dotenv, find_dotenv\n",
    "import os\n",
    "\n",
    "load_dotenv(find_dotenv())\n",
    "api_key = os.environ.get(\"MISTRAL_API_KEY\")"
   ]
  },
  {
   "cell_type": "code",
   "execution_count": 2,
   "id": "29bc5f84",
   "metadata": {},
   "outputs": [],
   "source": [
    "from mistralai import Mistral\n",
    "client = Mistral(api_key=api_key)"
   ]
  },
  {
   "cell_type": "markdown",
   "id": "5ce37475",
   "metadata": {},
   "source": [
    "## Geração de texto"
   ]
  },
  {
   "cell_type": "code",
   "execution_count": 3,
   "id": "32ced7a7",
   "metadata": {},
   "outputs": [
    {
     "name": "stdout",
     "output_type": "stream",
     "text": [
      "Claro! Fine-tuning é uma técnica usada em modelos de aprendizado de máquina, especialmente em redes neurais, para melhorar o desempenho de um modelo pré-treinado em uma tarefa específica. Aqui está uma explicação simples:\n",
      "\n",
      "1. **Modelo Pré-Treinado**: Primeiro, você começa com um modelo que já foi treinado em um grande conjunto de dados. Esse modelo já aprendeu a reconhecer padrões gerais.\n",
      "\n",
      "2. **Nova Tarefa**: Você quer usar esse modelo para uma tarefa específica que pode ser um pouco diferente da tarefa original para a qual o modelo foi treinado.\n",
      "\n",
      "3. **Ajuste Fino (Fine-Tuning)**: Em vez de treinar um novo modelo do zero, você ajusta o modelo pré-treinado para a nova tarefa. Isso geralmente envolve continuar o treinamento do modelo com um novo conjunto de dados específicos para a nova tarefa, mas com uma taxa de aprendizado menor e por menos tempo.\n",
      "\n",
      "4. **Vantagens**: Fine-tuning economiza tempo e recursos, pois você não precisa treinar o modelo do zero. Além disso, o modelo pré-treinado já aprendeu muitos padrões úteis que podem ser adaptados para a nova tarefa.\n",
      "\n",
      "5. **Aplicação**: Essa técnica é comum em áreas como processamento de linguagem natural (NLP) e visão computacional, onde modelos grandes são pré-treinados em grandes conjuntos de dados e depois ajustados para tarefas específicas, como classificação de texto ou reconhecimento de imagens específicas.\n",
      "\n",
      "Em resumo, fine-tuning é como dar um \"retoque\" em um modelo já treinado para que ele se ajuste melhor a uma nova tarefa, economizando tempo e recursos.\n"
     ]
    }
   ],
   "source": [
    "model = \"mistral-large-latest\"\n",
    "\n",
    "chat_response = client.chat.complete(\n",
    "    model=model,\n",
    "    messages=[\n",
    "        {\n",
    "            \"role\": \"user\",\n",
    "            \"content\": \"Me explique de forma simples e clara sobre Fine Tunning. Responda em português\"\n",
    "        }\n",
    "    ]\n",
    ")\n",
    "\n",
    "print(chat_response.choices[0].message.content)"
   ]
  },
  {
   "cell_type": "markdown",
   "id": "84cfc45d",
   "metadata": {},
   "source": [
    "## Vision"
   ]
  },
  {
   "cell_type": "code",
   "execution_count": 4,
   "id": "b20b6542",
   "metadata": {},
   "outputs": [
    {
     "name": "stdout",
     "output_type": "stream",
     "text": [
      "A imagem é um cartaz promocional para a série de TV \"The Last of Us\". O cartaz é predominantemente escuro, com um fundo preto que contrasta com os elementos mais claros. A figura central é um homem com barba, que está posicionado no lado esquerdo do cartaz. Ele está olhando para a direita, com uma expressão séria no rosto.\n",
      "\n",
      "No lado direito do cartaz, há uma mulher segurando uma arma. Ela está olhando para a esquerda, com uma expressão de determinação no rosto. O fundo do cartaz apresenta uma paisagem urbana, sugerindo um cenário pós-apocalíptico.\n",
      "\n",
      "O título da série, \"The Last of Us\", está exibido de forma proeminente no topo do cartaz em texto branco. Logo abaixo do título, há uma tagline que diz \"Cada caminho tem um preço\", também em texto branco. A disposição geral do cartaz sugere um senso de tensão e antecipação, adequado para uma série de TV de ação e aventura.\n"
     ]
    }
   ],
   "source": [
    "model = \"pixtral-12b-2409\"\n",
    "\n",
    "messages = [\n",
    "    {\n",
    "        \"role\": \"user\",\n",
    "        \"content\": [\n",
    "            {\n",
    "                \"type\": \"text\",\n",
    "                \"text\":\"Descreva esta imagem para mim\"\n",
    "            },\n",
    "            {\n",
    "                \"type\":\"image_url\",\n",
    "                \"image_url\": \"https://uploads.jovemnerd.com.br/wp-content/uploads/2025/04/the_last_of_us_poster_ellie_e_jo__r07jq6.jpg?ims=1210x544/filters:quality(75)\"\n",
    "            }\n",
    "        ]\n",
    "    }\n",
    "]\n",
    "\n",
    "chat_response = client.chat.complete(\n",
    "    model=model,\n",
    "    messages=messages\n",
    ")\n",
    "\n",
    "print(chat_response.choices[0].message.content)"
   ]
  },
  {
   "cell_type": "markdown",
   "id": "effcec72",
   "metadata": {},
   "source": [
    "## Code Generation\n",
    "Novidade no mundo de LLM, comparado com outras empresas de LLM"
   ]
  },
  {
   "cell_type": "code",
   "execution_count": 5,
   "id": "7bd95c65",
   "metadata": {},
   "outputs": [
    {
     "name": "stdout",
     "output_type": "stream",
     "text": [
      "Fine tuning é um processo de melhoria de modelos de aprendizado de máquina existentes, conhecidos como modelos pré-treinados. Em outras palavras, o fine tuning é o processo de treinamento de um modelo existente em um novo conjunto de dados específico, a fim de melhorar sua performance em tarefas específicas.\n",
      "\n",
      "Quando se utiliza o termo \"fine tuning\", estamos falando de ajustar os pesos e os hiperparâmetros de um modelo previamente treinado para se adequar melhor ao conjunto de dados específico. Isso é feito de forma que o modelo possa aprender as características distintivas de dados específicos e melhorar sua performance em tarefas relacionadas.\n",
      "\n",
      "O processo de fine tuning envolve duas etapas principais:\n",
      "\n",
      "1. Extração de características: Nesta etapa, o modelo pré-treinado é utilizado para extrair características de alto nível dos dados de entrada. Essas características são representações abstratas dos dados que capturam as principais informações contidas neles.\n",
      "\n",
      "2. Treinamento supervisionado: Nesta etapa, o modelo é treinado utilizando as características extraídas e os rótulos de treinamento associados. O modelo é ajustado para encontrar os pesos e os hiperparâmetros que melhoram sua performance no conjunto de dados específico.\n",
      "\n",
      "O fine tuning é uma prática comum em diversas áreas da ciência de dados, incluindo aprendizado profundo e modelos de aprendizado de máquina. Ele permite uma melhoria significativa na performance de modelos existentes, especialmente quando se trata de tarefas específicas ou conjuntos de dados pequenos.\n"
     ]
    }
   ],
   "source": [
    "model = \"codestral-mamba-latest\"\n",
    "\n",
    "message = [\n",
    "    {\n",
    "        \"role\": \"user\",\n",
    "        \"content\": \"Me explique de forma simples e clara sobre Fine Tunning. Responda em português\"\n",
    "    }\n",
    "]\n",
    "\n",
    "chat_response = client.chat.complete(\n",
    "    model=model,\n",
    "    messages=message\n",
    ")\n",
    "\n",
    "print(chat_response.choices[0].message.content)"
   ]
  }
 ],
 "metadata": {
  "kernelspec": {
   "display_name": ".venv",
   "language": "python",
   "name": "python3"
  },
  "language_info": {
   "codemirror_mode": {
    "name": "ipython",
    "version": 3
   },
   "file_extension": ".py",
   "mimetype": "text/x-python",
   "name": "python",
   "nbconvert_exporter": "python",
   "pygments_lexer": "ipython3",
   "version": "3.11.3"
  }
 },
 "nbformat": 4,
 "nbformat_minor": 5
}
