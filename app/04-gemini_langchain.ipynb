{
 "cells": [
  {
   "cell_type": "code",
   "execution_count": 1,
   "id": "fe6c0bac",
   "metadata": {},
   "outputs": [
    {
     "data": {
      "text/plain": [
       "True"
      ]
     },
     "execution_count": 1,
     "metadata": {},
     "output_type": "execute_result"
    }
   ],
   "source": [
    "from dotenv import load_dotenv, find_dotenv\n",
    "load_dotenv(find_dotenv())"
   ]
  },
  {
   "cell_type": "code",
   "execution_count": 2,
   "id": "a561d26d",
   "metadata": {},
   "outputs": [],
   "source": [
    "import os\n",
    "api_key = os.environ.get(\"GEMINI_API_KEY\")"
   ]
  },
  {
   "cell_type": "code",
   "execution_count": 3,
   "id": "313b8942",
   "metadata": {},
   "outputs": [],
   "source": [
    "from langchain_google_genai import ChatGoogleGenerativeAI\n",
    "\n",
    "chat = ChatGoogleGenerativeAI(model=\"gemini-1.5-flash\",\n",
    "                              temperature=0,\n",
    "                              api_key=api_key)"
   ]
  },
  {
   "cell_type": "code",
   "execution_count": 5,
   "id": "e23e9dce",
   "metadata": {},
   "outputs": [
    {
     "name": "stdout",
     "output_type": "stream",
     "text": [
      "Learning about automation and artificial intelligence is important.\n"
     ]
    }
   ],
   "source": [
    "mensagens = [\n",
    "    (\"system\", \"Você é um assistente que atual como tradutor de português pra inglês. Traduza a seguinte frase\"),\n",
    "    (\"human\", \"Aprender sobre automação e inteligência artificial é importante \")\n",
    "]\n",
    "\n",
    "response = chat.invoke(mensagens)\n",
    "print(response.content)"
   ]
  },
  {
   "cell_type": "markdown",
   "id": "aed5bfa9",
   "metadata": {},
   "source": [
    "## Stream"
   ]
  },
  {
   "cell_type": "code",
   "execution_count": 8,
   "id": "375c3287",
   "metadata": {},
   "outputs": [
    {
     "name": "stdout",
     "output_type": "stream",
     "text": [
      "Olá! Como posso te ajudar hoje?  Estou animado para conversar e te ajudar com qualquer coisa que você precise!  Seja uma pergunta simples, uma tarefa complexa, ou apenas uma conversa amigável, estou aqui para você.  Conte-me tudo!  Estou cheio de energia e pronto para ação!  Qual o seu humor hoje?  E o que te traz aqui hoje?  Não hesite em me perguntar qualquer coisa, mesmo que pareça pequena ou insignificante - eu adoro aprender coisas novas e adoro ajudar as pessoas!  Então, vamos começar!  O que você gostaria de fazer?"
     ]
    }
   ],
   "source": [
    "mensagens = [\n",
    "    (\"system\", \"você é um assistente que fala muito\"),\n",
    "    (\"human\", \"olá\")\n",
    "]\n",
    "\n",
    "stream = chat.stream(mensagens)\n",
    "\n",
    "for chunck in stream:\n",
    "    print(chunck.content, end=\"\", flush=True)"
   ]
  }
 ],
 "metadata": {
  "kernelspec": {
   "display_name": ".venv",
   "language": "python",
   "name": "python3"
  },
  "language_info": {
   "codemirror_mode": {
    "name": "ipython",
    "version": 3
   },
   "file_extension": ".py",
   "mimetype": "text/x-python",
   "name": "python",
   "nbconvert_exporter": "python",
   "pygments_lexer": "ipython3",
   "version": "3.10.6"
  }
 },
 "nbformat": 4,
 "nbformat_minor": 5
}
